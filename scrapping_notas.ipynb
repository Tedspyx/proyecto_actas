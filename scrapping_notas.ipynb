{
 "cells": [
  {
   "cell_type": "code",
   "execution_count": 1,
   "metadata": {},
   "outputs": [],
   "source": [
    "from selenium import webdriver\n",
    "from selenium.webdriver.support import expected_conditions as EC\n",
    "from selenium.webdriver.common.by import By\n",
    "from selenium.webdriver.support.ui import WebDriverWait\n",
    "from selenium.webdriver.common.keys import Keys\n",
    "import time"
   ]
  },
  {
   "cell_type": "code",
   "execution_count": 2,
   "metadata": {},
   "outputs": [],
   "source": [
    "def wd_driver():\n",
    "    options = webdriver.ChromeOptions()\n",
    "    options.add_experimental_option(\"detach\", True)\n",
    "    options.add_argument(\"--start-maximized\")\n",
    "    wd = webdriver.Chrome(options=options)\n",
    "    return wd\n",
    "\n",
    "def go_login(wd):\n",
    "    wd.get(\"https://uniempresarial.datasae.co/siga_new/web/app.php/login_responsive\")\n",
    "def click_captcha(wd):\n",
    "    try:\n",
    "        # Cambia al contexto del iframe que contiene el CAPTCHA\n",
    "        iframe = WebDriverWait(wd, 20).until(\n",
    "            EC.presence_of_element_located((By.XPATH, \"//iframe[@title='reCAPTCHA']\"))\n",
    "        )\n",
    "        wd.switch_to.frame(iframe)\n",
    "\n",
    "        # Espera hasta que el checkbox del CAPTCHA sea clickeable\n",
    "        captcha = WebDriverWait(wd, 20).until(\n",
    "            EC.presence_of_element_located((By.XPATH, \"//div[@class='rc-anchor-center-item rc-anchor-checkbox-holder']//span[@id='recaptcha-anchor']//div[@class='recaptcha-checkbox-border']\"))\n",
    "        )\n",
    "        captcha.click()\n",
    "\n",
    "        # Vuelve al contexto principal\n",
    "        wd.switch_to.default_content()\n",
    "    except Exception as e:\n",
    "        print(\"Error al dar click en el captcha:\", e)\n",
    "\n",
    "    \n",
    "def login(wd,email,password):\n",
    "    try:\n",
    "        email_input = WebDriverWait(wd, 20).until(\n",
    "            EC.visibility_of_element_located((By.ID, \"txt_username-inputEl\"))\n",
    "        )\n",
    "        email_input.send_keys(email)\n",
    "        email_input.send_keys(Keys.ENTER)\n",
    "        \n",
    "        password_input = WebDriverWait(wd, 20).until(\n",
    "            EC.visibility_of_element_located((By.ID, \"txt_password-inputEl\"))\n",
    "        )\n",
    "        password_input.send_keys(password)\n",
    "        password_input.send_keys(Keys.ENTER)    \n",
    "    finally:\n",
    "        login_button = WebDriverWait(wd, 20).until(\n",
    "            EC.element_to_be_clickable((By.ID,\"login_button-btnEl\"))\n",
    "        )\n",
    "        login_button.click()\n",
    "def click_hoja(wd):\n",
    "    click_hoja = WebDriverWait(wd, 20).until(\n",
    "        EC.presence_of_element_located((By.ID,\"ext-element-7\"))\n",
    "    )\n",
    "    click_hoja.click()\n",
    "    \n",
    "def change_to_iframe(wd):\n",
    "        iframe = WebDriverWait(wd, 20).until(\n",
    "        EC.presence_of_element_located((By.XPATH, \"//iframe[@id='panel_extModel9-1']\"))\n",
    "    )\n",
    "        print(\"Iframe encontrado\")\n",
    "        wd.switch_to.frame(iframe)\n",
    "        \n",
    "def academy_button(wd):\n",
    "    academy_button = WebDriverWait(wd, 40).until(\n",
    "        EC.visibility_of_element_located((By.XPATH,\"//a[@id='tab-1348']//span[@id='tab-1348-btnWrap']//span[@id='tab-1348-btnEl']//span[@id='tab-1348-btnInnerEl']\"))\n",
    "    )\n",
    "    academy_button.click()"
   ]
  },
  {
   "cell_type": "code",
   "execution_count": null,
   "metadata": {},
   "outputs": [
    {
     "name": "stdout",
     "output_type": "stream",
     "text": [
      "Error\n"
     ]
    }
   ],
   "source": [
    "wd = wd_driver()\n",
    "go_login(wd)     \n",
    "click_captcha(wd) \n",
    "login(wd,\"99123011086\",\"Colombia.1997\")\n",
    "\n",
    "try:\n",
    "    click_hoja(wd)\n",
    "    \n",
    "    change_to_iframe(wd)\n",
    "    \n",
    "    academy_button(wd)\n",
    "except:\n",
    "    print(\"Error\")"
   ]
  }
 ],
 "metadata": {
  "kernelspec": {
   "display_name": "proyecto-notas-AAj4oyTk-py3.10",
   "language": "python",
   "name": "python3"
  },
  "language_info": {
   "codemirror_mode": {
    "name": "ipython",
    "version": 3
   },
   "file_extension": ".py",
   "mimetype": "text/x-python",
   "name": "python",
   "nbconvert_exporter": "python",
   "pygments_lexer": "ipython3",
   "version": "3.10.11"
  }
 },
 "nbformat": 4,
 "nbformat_minor": 2
}
